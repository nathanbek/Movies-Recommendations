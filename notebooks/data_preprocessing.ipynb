{
 "cells": [
  {
   "cell_type": "code",
   "execution_count": null,
   "metadata": {},
   "outputs": [],
   "source": [
    "import pandas as pd\n",
    "\n",
    "# Load Data\n",
    "movies = pd.read_csv('data/movies.dat', sep='::', header=None, engine='python',\n",
    "                     names=['movieId', 'title', 'genres'])\n",
    "ratings = pd.read_csv('data/ratings.dat', sep='::', header=None, engine='python',\n",
    "                      names=['userId', 'movieId', 'rating', 'timestamp'])\n",
    "\n",
    "# Preprocess Movies Data\n",
    "movies['genres'] = movies['genres'].str.split('|')\n",
    "# Further processing as needed\n"
   ]
  }
 ],
 "metadata": {
  "language_info": {
   "name": "python"
  }
 },
 "nbformat": 4,
 "nbformat_minor": 2
}
